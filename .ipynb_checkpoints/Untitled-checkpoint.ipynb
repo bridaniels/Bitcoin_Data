{
 "cells": [
  {
   "cell_type": "code",
   "execution_count": 1,
   "id": "b9072268-4858-4624-af69-d134734e7c9b",
   "metadata": {},
   "outputs": [],
   "source": [
    "import requests\n",
    "import pandas as pd\n",
    "import matplotlib.pyplot as plt"
   ]
  },
  {
   "cell_type": "code",
   "execution_count": 2,
   "id": "027d381d-9ba1-4652-8e35-351db254be81",
   "metadata": {},
   "outputs": [
    {
     "data": {
      "text/plain": [
       "True"
      ]
     },
     "execution_count": 2,
     "metadata": {},
     "output_type": "execute_result"
    }
   ],
   "source": [
    "import cryptocompare\n",
    "import os\n",
    "from dotenv import load_dotenv\n",
    "load_dotenv()"
   ]
  },
  {
   "cell_type": "code",
   "execution_count": 3,
   "id": "7d8a5599-e6f8-4219-b8be-6cffefa23106",
   "metadata": {},
   "outputs": [],
   "source": [
    "# environment variable API key setup\n",
    "CRYPTOCOMPARE_API_KEY = os.getenv('CRYPTOCOMPARE_KEY')\n",
    "\n",
    "# manually set API key\n",
    "# cryptocompare.cryptocompare._set_api_key_parameter(KEY_HERE)"
   ]
  },
  {
   "cell_type": "code",
   "execution_count": 12,
   "id": "cb5ac0da-9bf4-462a-8ffc-18860a375c6d",
   "metadata": {
    "tags": []
   },
   "outputs": [],
   "source": [
    "def calc_nvt(symbol):\n",
    "    \n",
    "    # pull data\n",
    "    url = 'https://min-api.cryptocompare.com/data/blockchain/histo/day?api_key=' + CRYPTOCOMPARE_API_KEY + '&limit=2000&fsym=' + symbol\n",
    "    data = requests.get(url).json()[\"Data\"][\"Data\"]\n",
    "    df = pd.DataFrame(data)\n",
    "    \n",
    "    # calculate\n",
    "    df['nvt'] = df['current_supply']/df['transaction_count']/df['average_transaction_value']\n",
    "    \n",
    "    # pull pricing data\n",
    "    price_url = 'https://min-api.cryptocompare.com/data/v2/histoday?tsym=USD&limit=2000&api_key=' + CRYPTOCOMPARE_API_KEY + '&fsym=' + symbol\n",
    "    historical_data = requests.get(price_url).json()[\"Data\"][\"Data\"]\n",
    "    \n",
    "    df_price = pd.DataFrame(historical_data)\n",
    "    \n",
    "    combined = df.set_index('time').join(df_price.set_index('time'), on='time')\n",
    "    \n",
    "    combined.index = pd.to_datetime(combined.index, unit = 's')\n",
    "    \n",
    "    return combined"
   ]
  },
  {
   "cell_type": "code",
   "execution_count": 14,
   "id": "4cca1e39-dc2e-4033-8f92-95c20fafe85c",
   "metadata": {},
   "outputs": [
    {
     "data": {
      "text/html": [
       "<div>\n",
       "<style scoped>\n",
       "    .dataframe tbody tr th:only-of-type {\n",
       "        vertical-align: middle;\n",
       "    }\n",
       "\n",
       "    .dataframe tbody tr th {\n",
       "        vertical-align: top;\n",
       "    }\n",
       "\n",
       "    .dataframe thead th {\n",
       "        text-align: right;\n",
       "    }\n",
       "</style>\n",
       "<table border=\"1\" class=\"dataframe\">\n",
       "  <thead>\n",
       "    <tr style=\"text-align: right;\">\n",
       "      <th></th>\n",
       "      <th>id</th>\n",
       "      <th>symbol</th>\n",
       "      <th>zero_balance_addresses_all_time</th>\n",
       "      <th>unique_addresses_all_time</th>\n",
       "      <th>new_addresses</th>\n",
       "      <th>active_addresses</th>\n",
       "      <th>transaction_count</th>\n",
       "      <th>transaction_count_all_time</th>\n",
       "      <th>large_transaction_count</th>\n",
       "      <th>average_transaction_value</th>\n",
       "      <th>...</th>\n",
       "      <th>current_supply</th>\n",
       "      <th>nvt</th>\n",
       "      <th>high</th>\n",
       "      <th>low</th>\n",
       "      <th>open</th>\n",
       "      <th>volumefrom</th>\n",
       "      <th>volumeto</th>\n",
       "      <th>close</th>\n",
       "      <th>conversionType</th>\n",
       "      <th>conversionSymbol</th>\n",
       "    </tr>\n",
       "    <tr>\n",
       "      <th>time</th>\n",
       "      <th></th>\n",
       "      <th></th>\n",
       "      <th></th>\n",
       "      <th></th>\n",
       "      <th></th>\n",
       "      <th></th>\n",
       "      <th></th>\n",
       "      <th></th>\n",
       "      <th></th>\n",
       "      <th></th>\n",
       "      <th></th>\n",
       "      <th></th>\n",
       "      <th></th>\n",
       "      <th></th>\n",
       "      <th></th>\n",
       "      <th></th>\n",
       "      <th></th>\n",
       "      <th></th>\n",
       "      <th></th>\n",
       "      <th></th>\n",
       "      <th></th>\n",
       "    </tr>\n",
       "  </thead>\n",
       "  <tbody>\n",
       "    <tr>\n",
       "      <th>2016-03-31</th>\n",
       "      <td>7605</td>\n",
       "      <td>ETH</td>\n",
       "      <td>26848</td>\n",
       "      <td>141580</td>\n",
       "      <td>2058</td>\n",
       "      <td>12254</td>\n",
       "      <td>32224</td>\n",
       "      <td>2880651</td>\n",
       "      <td>27</td>\n",
       "      <td>34.689335</td>\n",
       "      <td>...</td>\n",
       "      <td>7.863952e+07</td>\n",
       "      <td>70.350217</td>\n",
       "      <td>12.06</td>\n",
       "      <td>11.17</td>\n",
       "      <td>11.80</td>\n",
       "      <td>969492.74</td>\n",
       "      <td>10997306.52</td>\n",
       "      <td>11.34</td>\n",
       "      <td>multiply</td>\n",
       "      <td>BTC</td>\n",
       "    </tr>\n",
       "    <tr>\n",
       "      <th>2016-04-01</th>\n",
       "      <td>7605</td>\n",
       "      <td>ETH</td>\n",
       "      <td>27085</td>\n",
       "      <td>142666</td>\n",
       "      <td>1086</td>\n",
       "      <td>11104</td>\n",
       "      <td>33286</td>\n",
       "      <td>2913937</td>\n",
       "      <td>5</td>\n",
       "      <td>11.567304</td>\n",
       "      <td>...</td>\n",
       "      <td>7.867141e+07</td>\n",
       "      <td>204.325781</td>\n",
       "      <td>11.85</td>\n",
       "      <td>11.33</td>\n",
       "      <td>11.34</td>\n",
       "      <td>977172.18</td>\n",
       "      <td>11351944.06</td>\n",
       "      <td>11.62</td>\n",
       "      <td>multiply</td>\n",
       "      <td>BTC</td>\n",
       "    </tr>\n",
       "    <tr>\n",
       "      <th>2016-04-02</th>\n",
       "      <td>7605</td>\n",
       "      <td>ETH</td>\n",
       "      <td>27331</td>\n",
       "      <td>143781</td>\n",
       "      <td>1115</td>\n",
       "      <td>11010</td>\n",
       "      <td>29332</td>\n",
       "      <td>2943269</td>\n",
       "      <td>3</td>\n",
       "      <td>12.821353</td>\n",
       "      <td>...</td>\n",
       "      <td>7.870249e+07</td>\n",
       "      <td>209.272865</td>\n",
       "      <td>11.70</td>\n",
       "      <td>11.31</td>\n",
       "      <td>11.62</td>\n",
       "      <td>696411.87</td>\n",
       "      <td>8029594.39</td>\n",
       "      <td>11.53</td>\n",
       "      <td>multiply</td>\n",
       "      <td>BTC</td>\n",
       "    </tr>\n",
       "    <tr>\n",
       "      <th>2016-04-03</th>\n",
       "      <td>7605</td>\n",
       "      <td>ETH</td>\n",
       "      <td>27496</td>\n",
       "      <td>144730</td>\n",
       "      <td>949</td>\n",
       "      <td>10976</td>\n",
       "      <td>29577</td>\n",
       "      <td>2972846</td>\n",
       "      <td>1</td>\n",
       "      <td>7.439468</td>\n",
       "      <td>...</td>\n",
       "      <td>7.873422e+07</td>\n",
       "      <td>357.822416</td>\n",
       "      <td>11.69</td>\n",
       "      <td>11.41</td>\n",
       "      <td>11.53</td>\n",
       "      <td>422948.81</td>\n",
       "      <td>4877670.35</td>\n",
       "      <td>11.53</td>\n",
       "      <td>multiply</td>\n",
       "      <td>BTC</td>\n",
       "    </tr>\n",
       "    <tr>\n",
       "      <th>2016-04-04</th>\n",
       "      <td>7605</td>\n",
       "      <td>ETH</td>\n",
       "      <td>27829</td>\n",
       "      <td>145936</td>\n",
       "      <td>1206</td>\n",
       "      <td>11849</td>\n",
       "      <td>34527</td>\n",
       "      <td>3007373</td>\n",
       "      <td>2</td>\n",
       "      <td>13.049426</td>\n",
       "      <td>...</td>\n",
       "      <td>7.876617e+07</td>\n",
       "      <td>174.819335</td>\n",
       "      <td>11.59</td>\n",
       "      <td>10.99</td>\n",
       "      <td>11.53</td>\n",
       "      <td>698392.28</td>\n",
       "      <td>7763634.69</td>\n",
       "      <td>11.12</td>\n",
       "      <td>multiply</td>\n",
       "      <td>BTC</td>\n",
       "    </tr>\n",
       "  </tbody>\n",
       "</table>\n",
       "<p>5 rows × 25 columns</p>\n",
       "</div>"
      ],
      "text/plain": [
       "              id symbol  zero_balance_addresses_all_time  \\\n",
       "time                                                       \n",
       "2016-03-31  7605    ETH                            26848   \n",
       "2016-04-01  7605    ETH                            27085   \n",
       "2016-04-02  7605    ETH                            27331   \n",
       "2016-04-03  7605    ETH                            27496   \n",
       "2016-04-04  7605    ETH                            27829   \n",
       "\n",
       "            unique_addresses_all_time  new_addresses  active_addresses  \\\n",
       "time                                                                     \n",
       "2016-03-31                     141580           2058             12254   \n",
       "2016-04-01                     142666           1086             11104   \n",
       "2016-04-02                     143781           1115             11010   \n",
       "2016-04-03                     144730            949             10976   \n",
       "2016-04-04                     145936           1206             11849   \n",
       "\n",
       "            transaction_count  transaction_count_all_time  \\\n",
       "time                                                        \n",
       "2016-03-31              32224                     2880651   \n",
       "2016-04-01              33286                     2913937   \n",
       "2016-04-02              29332                     2943269   \n",
       "2016-04-03              29577                     2972846   \n",
       "2016-04-04              34527                     3007373   \n",
       "\n",
       "            large_transaction_count  average_transaction_value  ...  \\\n",
       "time                                                            ...   \n",
       "2016-03-31                       27                  34.689335  ...   \n",
       "2016-04-01                        5                  11.567304  ...   \n",
       "2016-04-02                        3                  12.821353  ...   \n",
       "2016-04-03                        1                   7.439468  ...   \n",
       "2016-04-04                        2                  13.049426  ...   \n",
       "\n",
       "            current_supply         nvt   high    low   open  volumefrom  \\\n",
       "time                                                                      \n",
       "2016-03-31    7.863952e+07   70.350217  12.06  11.17  11.80   969492.74   \n",
       "2016-04-01    7.867141e+07  204.325781  11.85  11.33  11.34   977172.18   \n",
       "2016-04-02    7.870249e+07  209.272865  11.70  11.31  11.62   696411.87   \n",
       "2016-04-03    7.873422e+07  357.822416  11.69  11.41  11.53   422948.81   \n",
       "2016-04-04    7.876617e+07  174.819335  11.59  10.99  11.53   698392.28   \n",
       "\n",
       "               volumeto  close  conversionType  conversionSymbol  \n",
       "time                                                              \n",
       "2016-03-31  10997306.52  11.34        multiply               BTC  \n",
       "2016-04-01  11351944.06  11.62        multiply               BTC  \n",
       "2016-04-02   8029594.39  11.53        multiply               BTC  \n",
       "2016-04-03   4877670.35  11.53        multiply               BTC  \n",
       "2016-04-04   7763634.69  11.12        multiply               BTC  \n",
       "\n",
       "[5 rows x 25 columns]"
      ]
     },
     "execution_count": 14,
     "metadata": {},
     "output_type": "execute_result"
    }
   ],
   "source": [
    "eth_df = calc_nvt('ETH')\n",
    "\n",
    "eth_df.head()"
   ]
  },
  {
   "cell_type": "code",
   "execution_count": 15,
   "id": "26f7cd56-0f46-47c6-b264-af0591ec975d",
   "metadata": {},
   "outputs": [
    {
     "data": {
      "text/plain": [
       "<AxesSubplot:xlabel='time'>"
      ]
     },
     "execution_count": 15,
     "metadata": {},
     "output_type": "execute_result"
    },
    {
     "data": {
      "image/png": "[encoded data removed]",
      "text/plain": [
       "<Figure size 432x288 with 1 Axes>"
      ]
     },
     "metadata": {
      "needs_background": "light"
     },
     "output_type": "display_data"
    }
   ],
   "source": [
    "eth_df['nvt'].plot()"
   ]
  },
  {
   "cell_type": "code",
   "execution_count": 16,
   "id": "d490020c-31e9-4a6a-9cfb-a6218aa883dc",
   "metadata": {},
   "outputs": [
    {
     "data": {
      "text/plain": [
       "<AxesSubplot:xlabel='time'>"
      ]
     },
     "execution_count": 16,
     "metadata": {},
     "output_type": "execute_result"
    },
    {
     "data": {
      "image/png": "[encoded data removed]",
      "text/plain": [
       "<Figure size 432x288 with 1 Axes>"
      ]
     },
     "metadata": {
      "needs_background": "light"
     },
     "output_type": "display_data"
    }
   ],
   "source": [
    "coin_list = ['BTC', 'ETH']\n",
    "nvt_df = pd.DataFrame()\n",
    "\n",
    "for coin in coin_list:\n",
    "    df = calc_nvt(coin)\n",
    "    nvt_df[coin] = df['nvt']\n",
    "\n",
    "nvt_df.plot()"
   ]
  },
  {
   "cell_type": "code",
   "execution_count": null,
   "id": "71d26ed6-ff7d-4c20-a356-9b811878f595",
   "metadata": {},
   "outputs": [],
   "source": []
  }
 ],
 "metadata": {
  "kernelspec": {
   "display_name": "Python 3",
   "language": "python",
   "name": "python3"
  },
  "language_info": {
   "codemirror_mode": {
    "name": "ipython",
    "version": 3
   },
   "file_extension": ".py",
   "mimetype": "text/x-python",
   "name": "python",
   "nbconvert_exporter": "python",
   "pygments_lexer": "ipython3",
   "version": "3.8.8"
  }
 },
 "nbformat": 4,
 "nbformat_minor": 5
}
