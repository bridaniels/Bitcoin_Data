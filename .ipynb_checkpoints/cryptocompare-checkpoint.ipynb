{
 "cells": [
  {
   "cell_type": "markdown",
   "id": "07113d84-b27d-4aa1-a1ed-37a6bc44b4fd",
   "metadata": {},
   "source": [
    "# CryptoCompare\n",
    "\n",
    "![CryptoCompareLogo](/data/cryptocompare_logo.png \"CryptoCompare Logo\")"
   ]
  },
  {
   "cell_type": "code",
   "execution_count": 2,
   "id": "5461ff3e-52c1-48be-9a35-36ca363c00d2",
   "metadata": {},
   "outputs": [
    {
     "ename": "NameError",
     "evalue": "name 'CRYPTOCOMPARE_KEY' is not defined",
     "output_type": "error",
     "traceback": [
      "\u001b[0;31m---------------------------------------------------------------------------\u001b[0m",
      "\u001b[0;31mNameError\u001b[0m                                 Traceback (most recent call last)",
      "\u001b[0;32m<ipython-input-2-5acfe96da903>\u001b[0m in \u001b[0;36m<module>\u001b[0;34m\u001b[0m\n\u001b[1;32m      1\u001b[0m \u001b[0;32mimport\u001b[0m \u001b[0mcryptocompare\u001b[0m\u001b[0;34m\u001b[0m\u001b[0;34m\u001b[0m\u001b[0m\n\u001b[1;32m      2\u001b[0m \u001b[0;34m\u001b[0m\u001b[0m\n\u001b[0;32m----> 3\u001b[0;31m \u001b[0mcryptocompare\u001b[0m\u001b[0;34m.\u001b[0m\u001b[0mcryptocompare\u001b[0m\u001b[0;34m.\u001b[0m\u001b[0m_set_api_key_parameter\u001b[0m\u001b[0;34m(\u001b[0m\u001b[0mCRYPTOCOMPARE_KEY\u001b[0m\u001b[0;34m)\u001b[0m\u001b[0;34m\u001b[0m\u001b[0;34m\u001b[0m\u001b[0m\n\u001b[0m",
      "\u001b[0;31mNameError\u001b[0m: name 'CRYPTOCOMPARE_KEY' is not defined"
     ]
    }
   ],
   "source": [
    "import cryptocompare\n",
    "\n",
    "cryptocompare.cryptocompare._set_api_key_parameter(CRYPTOCOMPARE_KEY)"
   ]
  },
  {
   "cell_type": "code",
   "execution_count": null,
   "id": "7e345061-4aa4-4c31-90ed-97dffc674caf",
   "metadata": {},
   "outputs": [],
   "source": []
  }
 ],
 "metadata": {
  "kernelspec": {
   "display_name": "Python 3",
   "language": "python",
   "name": "python3"
  },
  "language_info": {
   "codemirror_mode": {
    "name": "ipython",
    "version": 3
   },
   "file_extension": ".py",
   "mimetype": "text/x-python",
   "name": "python",
   "nbconvert_exporter": "python",
   "pygments_lexer": "ipython3",
   "version": "3.8.8"
  }
 },
 "nbformat": 4,
 "nbformat_minor": 5
}
