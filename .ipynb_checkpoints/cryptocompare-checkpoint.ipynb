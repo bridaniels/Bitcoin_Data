{
 "cells": [
  {
   "cell_type": "markdown",
   "id": "07113d84-b27d-4aa1-a1ed-37a6bc44b4fd",
   "metadata": {},
   "source": [
    "# CryptoCompare\n",
    "\n",
    "![CryptoCompareLogo](/data/cryptocompare_logo_white.png \"CryptoCompare Logo\")"
   ]
  },
  {
   "cell_type": "code",
   "execution_count": 1,
   "id": "5461ff3e-52c1-48be-9a35-36ca363c00d2",
   "metadata": {},
   "outputs": [],
   "source": [
    "import cryptocompare\n",
    "\n",
    "from datetime import datetime, timedelta\n",
    "import pandas as pd"
   ]
  },
  {
   "cell_type": "markdown",
   "id": "c99180ec-02b2-4dcc-bc09-14d82fbea694",
   "metadata": {},
   "source": [
    "### Setup API"
   ]
  },
  {
   "cell_type": "code",
   "execution_count": 2,
   "id": "d6971a2f-c761-4945-a88c-5128a5d0b905",
   "metadata": {},
   "outputs": [
    {
     "data": {
      "text/plain": [
       "True"
      ]
     },
     "execution_count": 2,
     "metadata": {},
     "output_type": "execute_result"
    }
   ],
   "source": [
    "import os\n",
    "from dotenv import load_dotenv\n",
    "load_dotenv()"
   ]
  },
  {
   "cell_type": "code",
   "execution_count": 3,
   "id": "7e345061-4aa4-4c31-90ed-97dffc674caf",
   "metadata": {},
   "outputs": [],
   "source": [
    "# environment variable API key setup\n",
    "CRYPTOCOMPARE_API_KEY = os.getenv('CRYPTOCOMPARE_KEY')\n",
    "\n",
    "# manually set API key\n",
    "# cryptocompare.cryptocompare._set_api_key_parameter(KEY_HERE)"
   ]
  },
  {
   "cell_type": "markdown",
   "id": "0ad50bea-67a1-4673-b391-3d8bba66159f",
   "metadata": {},
   "source": [
    "### List of all Crypto Coins on CryptoCompare"
   ]
  },
  {
   "cell_type": "code",
   "execution_count": null,
   "id": "79e02d5f-30f6-4fa7-a54c-07a50e1b77cf",
   "metadata": {
    "scrolled": true,
    "tags": []
   },
   "outputs": [],
   "source": [
    "cryptocompare.get_coin_list(format=True)"
   ]
  },
  {
   "cell_type": "markdown",
   "id": "29a3c8c2-908f-4f1b-b74f-8fb3b7f44b80",
   "metadata": {},
   "source": [
    "### Prices of Specific Coins"
   ]
  },
  {
   "cell_type": "code",
   "execution_count": null,
   "id": "4568a9ad-7ce7-4823-aac4-c4bdcf2b7328",
   "metadata": {},
   "outputs": [],
   "source": [
    "cryptocompare.get_price('BTC', currency = 'USD')"
   ]
  },
  {
   "cell_type": "code",
   "execution_count": null,
   "id": "24eda792-cbdd-4cfd-bfe5-b7455d6606f9",
   "metadata": {
    "scrolled": true,
    "tags": []
   },
   "outputs": [],
   "source": [
    "cryptocompare.get_price('BTC', 'USD', 'EUR')"
   ]
  },
  {
   "cell_type": "code",
   "execution_count": null,
   "id": "b7b33955-d609-4a43-bb61-c90d41064128",
   "metadata": {
    "scrolled": true,
    "tags": []
   },
   "outputs": [],
   "source": [
    "# ('COIN', currency = 'EUR', full = True)\n",
    "    # default to 'EUR' -> London based API\n",
    "    # full = True -> gives all information about 'COIN'\n",
    "cryptocompare.get_price('BTC', currency = 'USD', full = True)"
   ]
  },
  {
   "cell_type": "markdown",
   "id": "587efec0-18d4-4c5b-9002-c64aa675145b",
   "metadata": {},
   "source": [
    "### Historical Prices"
   ]
  },
  {
   "cell_type": "code",
   "execution_count": null,
   "id": "8c7f94b7-bf3d-4338-ad56-cb8e1dd15524",
   "metadata": {},
   "outputs": [],
   "source": [
    "cryptocompare.get_historical_price('XMR','EUR', datetime(2017,6,6))"
   ]
  },
  {
   "cell_type": "code",
   "execution_count": null,
   "id": "3c36f7dc-d543-4fe6-8ac1-a9b762de6c4d",
   "metadata": {
    "scrolled": true,
    "tags": []
   },
   "outputs": [],
   "source": [
    "cryptocompare.get_historical_price_day('BTC','USD',limit =30, exchange = 'CCCAGG', toTs = datetime(2019,6,6))"
   ]
  },
  {
   "cell_type": "code",
   "execution_count": null,
   "id": "a93a9449-4632-4091-89a7-1adf0fb89ad3",
   "metadata": {
    "scrolled": true,
    "tags": []
   },
   "outputs": [],
   "source": [
    "cryptocompare.get_historical_price_hour('BTC','USD', limit = 24,exchange='CCCAGG', toTs = datetime(2019,6,6,12))"
   ]
  },
  {
   "cell_type": "code",
   "execution_count": null,
   "id": "a7d56b19-65c1-47be-a25b-6f2c7dcb41d7",
   "metadata": {
    "scrolled": true,
    "tags": []
   },
   "outputs": [],
   "source": [
    "cryptocompare.get_historical_price_minute('BTC','USD', limit = 60)"
   ]
  },
  {
   "cell_type": "markdown",
   "id": "44cd1b07-dae6-4531-890d-013a1efdad13",
   "metadata": {},
   "source": [
    "### Average"
   ]
  },
  {
   "cell_type": "code",
   "execution_count": null,
   "id": "8f960e48-2125-4f6d-8867-1f4c829f96bc",
   "metadata": {},
   "outputs": [],
   "source": [
    "cryptocompare.get_avg('BTC','USD', 'CCCAGG')"
   ]
  },
  {
   "cell_type": "markdown",
   "id": "b960bd23-f8e2-4832-85c9-ff0e457d7c04",
   "metadata": {},
   "source": [
    "### Exchanges"
   ]
  },
  {
   "cell_type": "code",
   "execution_count": null,
   "id": "134ccfe2-e17d-4a72-90d9-067a49bf6269",
   "metadata": {
    "scrolled": true,
    "tags": []
   },
   "outputs": [],
   "source": [
    "cryptocompare.get_exchanges()"
   ]
  },
  {
   "cell_type": "markdown",
   "id": "4fc33019-83fb-4ee9-add6-121a50648072",
   "metadata": {},
   "source": [
    "## NVT CALC"
   ]
  },
  {
   "cell_type": "code",
   "execution_count": null,
   "id": "b7f3010b-2f72-4e58-a431-82b86f0e1927",
   "metadata": {},
   "outputs": [],
   "source": [
    "days = cryptocompare.get_historical_price_day('BTC','USD',limit =30, exchange = 'CCCAGG')\n",
    "days_df = pd.DataFrame(days)\n",
    "days_df.head()"
   ]
  },
  {
   "cell_type": "code",
   "execution_count": null,
   "id": "e6ac51f4-4283-47a8-b64c-481218a81caa",
   "metadata": {},
   "outputs": [],
   "source": [
    "days_df = days_df.drop(columns = ['high', 'low','volumefrom','volumeto','conversionType','conversionSymbol'])\n",
    "days_df.head()"
   ]
  },
  {
   "cell_type": "code",
   "execution_count": null,
   "id": "f29346af-6ee0-4473-82d2-f4e1d8c1408f",
   "metadata": {},
   "outputs": [],
   "source": [
    "tstamp = 1629590400\n",
    "dt_object = datetime.fromtimestamp(tstamp)\n",
    "\n",
    "print(dt_object)"
   ]
  },
  {
   "cell_type": "code",
   "execution_count": null,
   "id": "e322c040-ac16-46d6-99d7-1eec48e2e90f",
   "metadata": {},
   "outputs": [],
   "source": [
    "days_df['time'] = pd.to_datetime(days_df['time'],unit='s')\n",
    "days_df.head(11)"
   ]
  },
  {
   "cell_type": "code",
   "execution_count": null,
   "id": "1b9efb3b-2425-4cdd-b6ea-ec60f8eb58ea",
   "metadata": {},
   "outputs": [],
   "source": [
    "days_df = days_df.set_index(days_df['time'])\n",
    "days_df = days_df.drop(columns = ['time'])\n",
    "days_df.head()"
   ]
  },
  {
   "cell_type": "code",
   "execution_count": null,
   "id": "0068579a-a713-4560-a26d-1582240297e3",
   "metadata": {},
   "outputs": [],
   "source": []
  }
 ],
 "metadata": {
  "kernelspec": {
   "display_name": "Python 3",
   "language": "python",
   "name": "python3"
  },
  "language_info": {
   "codemirror_mode": {
    "name": "ipython",
    "version": 3
   },
   "file_extension": ".py",
   "mimetype": "text/x-python",
   "name": "python",
   "nbconvert_exporter": "python",
   "pygments_lexer": "ipython3",
   "version": "3.8.8"
  }
 },
 "nbformat": 4,
 "nbformat_minor": 5
}
