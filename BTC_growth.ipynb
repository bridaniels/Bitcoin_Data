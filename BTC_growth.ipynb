{
 "cells": [
  {
   "cell_type": "markdown",
   "id": "22c55f92-2a76-4c8b-bbdc-07534c3d408c",
   "metadata": {},
   "source": [
    "# Bitcoin Supply and Growth"
   ]
  },
  {
   "cell_type": "code",
   "execution_count": 1,
   "id": "42848a4c-c935-46ac-be0d-b4549f5c7abe",
   "metadata": {},
   "outputs": [],
   "source": [
    "from pathlib import Path\n",
    "import csv\n",
    "import pandas as pd"
   ]
  },
  {
   "cell_type": "markdown",
   "id": "e8650642-df49-454a-8e87-3c5120c09528",
   "metadata": {},
   "source": [
    "## Yahoo"
   ]
  },
  {
   "cell_type": "code",
   "execution_count": 2,
   "id": "d74dfebe-0acb-490d-9bfb-c9a7fa532f60",
   "metadata": {},
   "outputs": [],
   "source": [
    "data_btc = Path(\"./data/btc_yahoo.csv\")"
   ]
  },
  {
   "cell_type": "code",
   "execution_count": 3,
   "id": "2eafa24b-25e0-4af0-b41e-b80e9acc01dc",
   "metadata": {},
   "outputs": [
    {
     "data": {
      "text/html": [
       "<div>\n",
       "<style scoped>\n",
       "    .dataframe tbody tr th:only-of-type {\n",
       "        vertical-align: middle;\n",
       "    }\n",
       "\n",
       "    .dataframe tbody tr th {\n",
       "        vertical-align: top;\n",
       "    }\n",
       "\n",
       "    .dataframe thead th {\n",
       "        text-align: right;\n",
       "    }\n",
       "</style>\n",
       "<table border=\"1\" class=\"dataframe\">\n",
       "  <thead>\n",
       "    <tr style=\"text-align: right;\">\n",
       "      <th></th>\n",
       "      <th>Open</th>\n",
       "      <th>High</th>\n",
       "      <th>Low</th>\n",
       "      <th>Close</th>\n",
       "      <th>Adj Close</th>\n",
       "      <th>Volume</th>\n",
       "    </tr>\n",
       "    <tr>\n",
       "      <th>Date</th>\n",
       "      <th></th>\n",
       "      <th></th>\n",
       "      <th></th>\n",
       "      <th></th>\n",
       "      <th></th>\n",
       "      <th></th>\n",
       "    </tr>\n",
       "  </thead>\n",
       "  <tbody>\n",
       "    <tr>\n",
       "      <th>2020-09-20</th>\n",
       "      <td>11095.870117</td>\n",
       "      <td>11095.870117</td>\n",
       "      <td>10814.477539</td>\n",
       "      <td>10938.271484</td>\n",
       "      <td>10938.271484</td>\n",
       "      <td>2.469952e+10</td>\n",
       "    </tr>\n",
       "    <tr>\n",
       "      <th>2020-09-21</th>\n",
       "      <td>10934.925781</td>\n",
       "      <td>10988.304688</td>\n",
       "      <td>10380.260742</td>\n",
       "      <td>10462.259766</td>\n",
       "      <td>10462.259766</td>\n",
       "      <td>2.888500e+10</td>\n",
       "    </tr>\n",
       "    <tr>\n",
       "      <th>2020-09-22</th>\n",
       "      <td>10459.624023</td>\n",
       "      <td>10568.077148</td>\n",
       "      <td>10382.726563</td>\n",
       "      <td>10538.459961</td>\n",
       "      <td>10538.459961</td>\n",
       "      <td>2.362179e+10</td>\n",
       "    </tr>\n",
       "    <tr>\n",
       "      <th>2020-09-23</th>\n",
       "      <td>10539.457031</td>\n",
       "      <td>10637.847656</td>\n",
       "      <td>10185.774414</td>\n",
       "      <td>10225.864258</td>\n",
       "      <td>10225.864258</td>\n",
       "      <td>2.298673e+10</td>\n",
       "    </tr>\n",
       "    <tr>\n",
       "      <th>2020-09-24</th>\n",
       "      <td>10227.479492</td>\n",
       "      <td>10765.794922</td>\n",
       "      <td>10215.205078</td>\n",
       "      <td>10745.548828</td>\n",
       "      <td>10745.548828</td>\n",
       "      <td>2.301754e+10</td>\n",
       "    </tr>\n",
       "  </tbody>\n",
       "</table>\n",
       "</div>"
      ],
      "text/plain": [
       "                    Open          High           Low         Close  \\\n",
       "Date                                                                 \n",
       "2020-09-20  11095.870117  11095.870117  10814.477539  10938.271484   \n",
       "2020-09-21  10934.925781  10988.304688  10380.260742  10462.259766   \n",
       "2020-09-22  10459.624023  10568.077148  10382.726563  10538.459961   \n",
       "2020-09-23  10539.457031  10637.847656  10185.774414  10225.864258   \n",
       "2020-09-24  10227.479492  10765.794922  10215.205078  10745.548828   \n",
       "\n",
       "               Adj Close        Volume  \n",
       "Date                                    \n",
       "2020-09-20  10938.271484  2.469952e+10  \n",
       "2020-09-21  10462.259766  2.888500e+10  \n",
       "2020-09-22  10538.459961  2.362179e+10  \n",
       "2020-09-23  10225.864258  2.298673e+10  \n",
       "2020-09-24  10745.548828  2.301754e+10  "
      ]
     },
     "execution_count": 3,
     "metadata": {},
     "output_type": "execute_result"
    }
   ],
   "source": [
    "btc_csv = pd.read_csv(data_btc)\n",
    "\n",
    "# Set date as index\n",
    "btc_csv = btc_csv.set_index(btc_csv['Date'])\n",
    "# Drop extra date column\n",
    "btc_csv = btc_csv.drop(columns = ['Date'])\n",
    "\n",
    "btc_csv.head()"
   ]
  }
 ],
 "metadata": {
  "kernelspec": {
   "display_name": "Python 3",
   "language": "python",
   "name": "python3"
  },
  "language_info": {
   "codemirror_mode": {
    "name": "ipython",
    "version": 3
   },
   "file_extension": ".py",
   "mimetype": "text/x-python",
   "name": "python",
   "nbconvert_exporter": "python",
   "pygments_lexer": "ipython3",
   "version": "3.8.8"
  }
 },
 "nbformat": 4,
 "nbformat_minor": 5
}
